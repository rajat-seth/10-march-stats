{
 "cells": [
  {
   "cell_type": "markdown",
   "id": "adb9c3c2-a8fe-4dac-bc5b-7ecc128f76cc",
   "metadata": {},
   "source": [
    "Q1)"
   ]
  },
  {
   "cell_type": "markdown",
   "id": "3a037a8d-9a68-41ff-8b9f-406677046af6",
   "metadata": {},
   "source": [
    "#Estimation statistics is a branch of statistics that focuses on estimating population parameters based on sample data. When we have a limited amount of data, we use estimation techniques to make inferences about the characteristics of the entire population.\n",
    "\n",
    "Point Estimate:\n",
    "\n",
    "A point estimate is a single value that is used to estimate an unknown population parameter. It is calculated using sample data and is often represented by a statistic, such as the sample mean or sample proportion. Point estimates provide a single best guess for the value of the population parameter, but they do not provide any information about the precision or uncertainty of the estimate. For example, if we want to estimate the average height of students in a school, a point estimate could be the mean height of a sample of students.\n",
    "Interval Estimate:\n",
    "\n",
    "An interval estimate provides a range of values within which the population parameter is likely to lie. It takes into account both the point estimate and the variability of the data. Instead of providing a single value, an interval estimate gives a lower bound and an upper bound for the estimated parameter. The interval is constructed such that there is a certain level of confidence (e.g., 95% confidence interval) that the true population parameter falls within the interval"
   ]
  },
  {
   "cell_type": "markdown",
   "id": "4adfb9d6-9020-49c2-9e70-494e63fad0b6",
   "metadata": {},
   "source": [
    "Q2)"
   ]
  },
  {
   "cell_type": "code",
   "execution_count": 2,
   "id": "a053ee26-e5aa-457b-a9aa-f1d4e91ae4e8",
   "metadata": {},
   "outputs": [
    {
     "data": {
      "text/plain": [
       "(5, 4.463231893644937, 5.536768106355063)"
      ]
     },
     "execution_count": 2,
     "metadata": {},
     "output_type": "execute_result"
    }
   ],
   "source": [
    "import math\n",
    "\n",
    "def estimate_population_mean(sample_mean, sample_std_deviation, sample_size):\n",
    "    # Calculate the standard error\n",
    "    standard_error = sample_std_deviation / math.sqrt(sample_size)\n",
    "    \n",
    "    # Calculate the margin of error (assuming a 95% confidence level)\n",
    "    margin_of_error = 1.96 * standard_error\n",
    "    \n",
    "    # Calculate the lower and upper bounds of the confidence interval\n",
    "    lower_bound = sample_mean - margin_of_error\n",
    "    upper_bound = sample_mean + margin_of_error\n",
    "    \n",
    "    # Return the estimated population mean and confidence interval\n",
    "    return sample_mean, lower_bound, upper_bound\n",
    "estimate_population_mean(5, 1.5, 30)"
   ]
  },
  {
   "cell_type": "markdown",
   "id": "66a83c69-21d0-480e-a3ef-a66675b0d1ed",
   "metadata": {},
   "source": [
    "Q3)"
   ]
  },
  {
   "cell_type": "markdown",
   "id": "6d8224be-737b-4547-9816-c38e325b90f1",
   "metadata": {},
   "source": [
    "Hypothesis testing is a statistical method used to make inferences and draw conclusions about a population based on sample data. It involves formulating a hypothesis about a population parameter, collecting sample data, and using statistical techniques to assess the evidence against the null hypothesis.\n",
    "\n",
    "The purpose of hypothesis testing is to determine whether there is enough evidence to support or reject a claim or hypothesis about a population parameter. The two primary hypotheses involved in hypothesis testing are:\n",
    "\n",
    "Null Hypothesis (\n",
    "): It represents the default or initial assumption that there is no significant difference or relationship between variables or that there is no effect of a treatment. It is denoted as \n",
    ".\n",
    "\n",
    "Alternative Hypothesis (\n",
    "): It represents the contrary or alternative claim to the null hypothesis. It suggests that there is a significant difference, relationship, or effect. It is denoted as \n",
    ".\n",
    "\n",
    "The importance of hypothesis testing lies in its ability to provide a systematic and rigorous approach to decision-making based on data. Here are some key reasons why hypothesis testing is important:\n",
    "\n",
    "Scientific Research: Hypothesis testing is a fundamental tool in scientific research to test theories, validate hypotheses, and draw meaningful conclusions. It helps researchers make evidence-based claims about their findings.\n",
    "Decision-Making: Hypothesis testing enables decision-making in various fields, such as business, medicine, social sciences, and engineering. By testing hypotheses, organizations can evaluate the effectiveness of strategies, treatments, marketing campaigns, and more.\n",
    "Statistical Inference: Hypothesis testing allows statisticians to make inferences about population parameters based on sample data. It provides a framework to estimate the characteristics of a population and"
   ]
  },
  {
   "cell_type": "markdown",
   "id": "5600a081-062d-4679-969e-a7e2b6c295e5",
   "metadata": {},
   "source": [
    "Q4)"
   ]
  },
  {
   "cell_type": "markdown",
   "id": "a363ec01-546f-443d-9cd7-2324203a6a56",
   "metadata": {},
   "source": [
    "Hypothesis: The average weight of male college students is greater than the average weight of female college students.\n",
    "\n",
    "Null Hypothesis (\n",
    "): The average weight of male college students is equal to or less than the average weight of female college students.\n",
    "\n",
    "Alternative Hypothesis (\n",
    "): The average weight of male college students is greater than the average weight of female college students.\n",
    "\n",
    "Symbolically, the hypotheses can be represented as:\n",
    "\n",
    " (where \n",
    " represents the population mean weight of male college students, and \n",
    " represents the population mean weight of female college students)\n",
    "\n",
    "\n",
    "In this hypothesis, we are comparing the average weight of male and female college students, assuming that the two populations are distinct. The null hypothesis assumes that there is no significant difference or that female students may have equal or higher average weight compared to male students. The alternative hypothesis suggests that male students have a greater average weight compared to female students.\n",
    "\n",
    "To test this hypothesis, we would collect data on the weights of male and female college students, calculate the sample means for each group, and then perform statistical tests, such as a t-test or a z-test, to assess the evidence against the null hypothesis and determine whether there is sufficient evidence to support the alternative hypothesis."
   ]
  },
  {
   "cell_type": "markdown",
   "id": "39f33c0d-e066-408d-8a08-53f7bae35ad4",
   "metadata": {},
   "source": [
    "Q5)"
   ]
  },
  {
   "cell_type": "code",
   "execution_count": 3,
   "id": "94b5c709-13aa-4a6f-94ea-b819595b9fec",
   "metadata": {},
   "outputs": [],
   "source": [
    "import numpy as np\n",
    "from scipy import stats\n",
    "\n",
    "def conduct_hypothesis_test(sample1, sample2, alpha):\n",
    "    # Perform independent t-test assuming unequal variances\n",
    "    t_stat, p_value = stats.ttest_ind(sample1, sample2, equal_var=False)\n",
    "    \n",
    "    # Compare p-value to the significance level\n",
    "    if p_value < alpha:\n",
    "        result = \"Reject the null hypothesis\"\n",
    "    else:\n",
    "        result = \"Fail to reject the null hypothesis\"\n",
    "    \n",
    "    # Return the test result, t-statistic, and p-value\n",
    "    return result, t_stat, p_value"
   ]
  },
  {
   "cell_type": "markdown",
   "id": "52f7347d-3c58-442e-a20c-84e3ab2dd090",
   "metadata": {},
   "source": [
    "Q6)"
   ]
  },
  {
   "cell_type": "markdown",
   "id": "0a92664a-d0c4-4e53-af27-b107c9532050",
   "metadata": {},
   "source": [
    "In hypothesis testing, the null hypothesis (H₀) and alternative hypothesis (H₁ or Ha) are two competing statements that represent different possibilities about a population parameter. These hypotheses are used to assess the evidence in favor of one hypothesis over the other based on sample data.\n",
    "\n",
    "Null Hypothesis (H₀): The null hypothesis represents the default assumption or the claim that there is no significant difference, effect, or relationship between variables in the population. It assumes that any observed difference or effect in the sample is due to chance or random variation. The null hypothesis is typically denoted as H₀.\n",
    "Examples:\n",
    "\n",
    "Null hypothesis for a coin toss: The probability of getting heads is 0.5 (p = 0.5), indicating that the coin is fair. Null hypothesis for a medication trial: The new medication has no effect on patient recovery time compared to the placebo. Null hypothesis for a marketing campaign: There is no difference in sales between the control group and the group exposed to the advertising campaign. Alternative Hypothesis (H₁ or Ha): The alternative hypothesis represents the contrary claim to the null hypothesis. It suggests that there is a significant difference, effect, or relationship between variables in the population. The alternative hypothesis can be directional, indicating a specific direction of the difference or effect, or non-directional, simply stating that there is a difference or effect. The alternative hypothesis is denoted as H₁ or Ha.\n",
    "\n",
    "Examples:\n",
    "\n",
    "Alternative hypothesis for a coin toss: The probability of getting heads is different from 0.5 (p ≠ 0.5), suggesting that the coin is biased. Alternative hypothesis for a medication trial: The new medication reduces patient recovery time compared to the placebo. Alternative hypothesis for a marketing campaign: The advertising campaign leads to a higher sales conversion rate compared to the control group. In hypothesis testing, the goal is to evaluate the evidence against the null hypothesis using sample data. If the evidence is strong enough, we reject the null hypothesis in favor of the alternative hypothesis, indicating that there is a significant difference, effect, or relationship in the population. On the other hand, if the evidence is not sufficient, we fail to reject the null hypothesis, suggesting that any observed differences in the sample can be attributed to chance."
   ]
  },
  {
   "cell_type": "markdown",
   "id": "31636459-ff86-4735-bf08-81c2d7afecc7",
   "metadata": {},
   "source": [
    "Q7)"
   ]
  },
  {
   "cell_type": "markdown",
   "id": "06e8c4af-03cd-4792-8233-0aec86d7ead5",
   "metadata": {},
   "source": [
    "Hypothesis testing involves a series of steps to systematically evaluate the evidence against the null hypothesis and draw conclusions based on sample data. Here are the typical steps involved in hypothesis testing:\n",
    "\n",
    "State the Hypotheses: Clearly define the null hypothesis (H₀) and alternative hypothesis (H₁ or Ha) based on the research question or claim you want to investigate. These hypotheses should be mutually exclusive and collectively exhaustive.\n",
    "\n",
    "Set the Significance Level: Determine the significance level (α) that represents the maximum probability of making a Type I error, which is the probability of rejecting the null hypothesis when it is true. Commonly used significance levels are 0.05 (5%) and 0.01 (1%).\n",
    "\n",
    "Collect and Analyze Data: Collect a representative sample from the population of interest and analyze the data using appropriate statistical techniques. Calculate relevant sample statistics such as sample means, proportions, or differences between groups.\n",
    "\n",
    "Determine the Test Statistic: Based on the nature of the data and the hypothesis being tested, select an appropriate test statistic. Common test statistics include t-statistics, z-scores, chi-square statistics, or F-statistics.\n",
    "\n",
    "Calculate the P-value: Calculate the probability value (p-value) associated with the test statistic. The p-value represents the probability of obtaining the observed data or more extreme results if the null hypothesis is true. It measures the strength of evidence against the null hypothesis.\n",
    "\n",
    "Make a Decision: Compare the p-value to the significance level (α) set in Step 2. If the p-value is less than α, reject the null hypothesis in favor of the alternative hypothesis. If the p-value is greater than or equal to α, fail to reject the null hypothesis.\n",
    "\n",
    "Draw Conclusions: Interpret the results of the hypothesis test in the context of the research question. Provide conclusions based on the statistical evidence and make appropriate inferences about the population parameter or relationship being investigated.\n",
    "\n",
    "Consider Limitations and Extensions: Discuss any limitations or assumptions of the hypothesis test. Consider further implications, possible extensions, or future research directions based on the findings.\n",
    "\n",
    "It's important to note that these steps provide a general framework for hypothesis testing, and the specific details and techniques may vary depending on the nature of the data, research question, and statistical methods employed."
   ]
  },
  {
   "cell_type": "markdown",
   "id": "be2a1559-16df-455f-bc6d-97815e024258",
   "metadata": {},
   "source": [
    "Q8)"
   ]
  },
  {
   "cell_type": "markdown",
   "id": "e311fe92-1b13-4d17-bded-044df4fe9b83",
   "metadata": {},
   "source": [
    "The p-value is a probability value that measures the strength of evidence against the null hypothesis in hypothesis testing. It quantifies the likelihood of obtaining the observed data or more extreme results if the null hypothesis is true.\n",
    "\n",
    "In hypothesis testing, the p-value is calculated based on the test statistic and represents the probability of observing a test statistic as extreme as, or more extreme than, the one obtained from the sample data, assuming that the null hypothesis is true.\n",
    "\n",
    "The significance of the p-value in hypothesis testing lies in its interpretation and its role in decision-making. Here are the key aspects of the p-value's significance:\n",
    "\n",
    "Test of Statistical Significance: The p-value allows us to assess the statistical significance of the results. If the p-value is small (typically smaller than the pre-determined significance level α), it indicates that the observed data is unlikely to have occurred by chance alone under the null hypothesis. This suggests that there is sufficient evidence to reject the null hypothesis in favor of the alternative hypothesis.\n",
    "\n",
    "Decision-Making: The p-value helps in making decisions about the hypotheses being tested. If the p-value is less than the significance level (α), it suggests that the evidence against the null hypothesis is strong enough to reject it. Conversely, if the p-value is greater than or equal to α, it suggests that the evidence is not strong enough to reject the null hypothesis, and we fail to reject it.\n",
    "\n",
    "Continuum of Evidence: The p-value provides a continuum of evidence rather than a definitive \"yes\" or \"no\" answer. It quantifies the strength of evidence against the null hypothesis. A small p-value indicates strong evidence against the null hypothesis, while a large p-value suggests weaker evidence against the null hypothesis.\n",
    "\n",
    "Influence of Significance Level: The interpretation of the p-value depends on the significance level (α) set at the beginning of the hypothesis test. If α is set at 0.05 (5%), for example, a p-value less than 0.05 is considered statistically significant. However, the choice of significance level should be based on the specific context, field, and desired balance between Type I and Type II errors.\n",
    "\n",
    "Contextual Interpretation: The interpretation of the p-value should always be done in the context of the research question and the specific hypotheses being tested. It is important to consider the practical significance and implications of the results beyond statistical significance."
   ]
  },
  {
   "cell_type": "markdown",
   "id": "6364f2cb-c8a4-46ff-8661-50cb69f9f90f",
   "metadata": {},
   "source": [
    "Q9)"
   ]
  },
  {
   "cell_type": "code",
   "execution_count": 4,
   "id": "a829537b-1193-46d9-a5f7-20114d6c7c05",
   "metadata": {},
   "outputs": [
    {
     "data": {
      "image/png": "[encoded data removed]",
      "text/plain": [
       "<Figure size 640x480 with 1 Axes>"
      ]
     },
     "metadata": {},
     "output_type": "display_data"
    }
   ],
   "source": [
    "import numpy as np\n",
    "import matplotlib.pyplot as plt\n",
    "from scipy.stats import t\n",
    "\n",
    "# Set the degrees of freedom\n",
    "df = 10\n",
    "\n",
    "# Generate x values from -4 to 4 (for plotting purposes)\n",
    "x = np.linspace(-4, 4, 1000)\n",
    "\n",
    "# Calculate the y values of the t-distribution\n",
    "y = t.pdf(x, df)\n",
    "\n",
    "# Plot the t-distribution\n",
    "plt.plot(x, y, label=f\"t-distribution (df={df})\")\n",
    "plt.xlabel('x')\n",
    "plt.ylabel('Probability Density')\n",
    "plt.title(f\"Student's t-distribution (df={df})\")\n",
    "plt.legend()\n",
    "plt.grid(True)\n",
    "plt.show()"
   ]
  },
  {
   "cell_type": "markdown",
   "id": "56703f2b-ebe8-4097-9119-a807f264f5bc",
   "metadata": {},
   "source": [
    "Q10)"
   ]
  },
  {
   "cell_type": "code",
   "execution_count": 6,
   "id": "a195dfb5-307b-45b6-900b-ca9f93170098",
   "metadata": {},
   "outputs": [
    {
     "name": "stdout",
     "output_type": "stream",
     "text": [
      "t-statistic: -1.8973665961010275\n",
      "p-value: 0.09434977284243762\n"
     ]
    }
   ],
   "source": [
    "import numpy as np\n",
    "from scipy import stats\n",
    "\n",
    "def two_sample_ttest(sample1, sample2):\n",
    "    # Calculate the sample means\n",
    "    mean1 = np.mean(sample1)\n",
    "    mean2 = np.mean(sample2)\n",
    "\n",
    "    # Calculate the sample standard deviations\n",
    "    std1 = np.std(sample1, ddof=1)\n",
    "    std2 = np.std(sample2, ddof=1)\n",
    "\n",
    "    # Calculate the sample sizes\n",
    "    n1 = len(sample1)\n",
    "    n2 = len(sample2)\n",
    "\n",
    "    # Calculate the standard error of the difference between means\n",
    "    std_error = np.sqrt((std1**2 / n1) + (std2**2 / n2))\n",
    "\n",
    "    # Calculate the t-statistic\n",
    "    t_stat = (mean1 - mean2) / std_error\n",
    "\n",
    "    # Calculate the degrees of freedom\n",
    "    df = n1 + n2 - 2\n",
    "\n",
    "    # Calculate the p-value\n",
    "    p_value = 2 * (1 - stats.t.cdf(np.abs(t_stat), df))\n",
    "\n",
    "    # Return the t-statistic and p-value\n",
    "    return t_stat, p_value\n",
    "\n",
    "# Example usage\n",
    "sample1 = np.array([1, 2, 3, 4, 5])\n",
    "sample2 = np.array([2, 4, 6, 8, 10])\n",
    "\n",
    "t_stat, p_value = two_sample_ttest(sample1, sample2)\n",
    "print(\"t-statistic:\", t_stat)\n",
    "print(\"p-value:\", p_value)"
   ]
  },
  {
   "cell_type": "markdown",
   "id": "b739347e-0f3c-4d4a-8821-5ec78e1a421c",
   "metadata": {},
   "source": [
    "Q11)"
   ]
  },
  {
   "cell_type": "markdown",
   "id": "80295868-59ea-40e4-bab0-ec8f4a56047f",
   "metadata": {},
   "source": [
    "Student's t-distribution, also known as the t-distribution, is a probability distribution that arises when estimating the population mean of a normally distributed variable when the sample size is small or when the population standard deviation is unknown.\n",
    "\n",
    "The t-distribution is similar in shape to the standard normal distribution (z-distribution), but with thicker tails. It is characterized by its degrees of freedom (df), which determine the shape of the distribution. As the degrees of freedom increase, the t-distribution approaches the shape of the standard normal distribution.\n",
    "\n",
    "The t-distribution is commonly used in the following situations:\n",
    "\n",
    "Small Sample Size: When the sample size is small (typically less than 30) and the population standard deviation is unknown, the t-distribution is used to calculate confidence intervals and perform hypothesis tests for the population mean. In such cases, the sample standard deviation is used as an estimate of the population standard deviation.\n",
    "\n",
    "Population Standard Deviation is Unknown: When the population standard deviation is unknown, the t-distribution is used instead of the standard normal distribution for inference about the population mean. This occurs when working with real-world data where the population standard deviation is not available.\n",
    "\n",
    "Outliers and Skewed Data: The t-distribution is more robust to outliers and departures from normality compared to the standard normal distribution. It provides more accurate results when working with data that may not strictly follow a normal distribution.\n",
    "\n",
    "Comparing Means of Independent Samples: When comparing the means of two independent samples, such as in a two-sample t-test, the t-distribution is used to assess the statistical significance of the difference between the means.\n",
    "\n",
    "Regression Analysis: In linear regression analysis, the t-distribution is used for hypothesis tests and confidence intervals related to the regression coefficients. It helps determine whether the coefficients are significantly different from zero.\n",
    "\n",
    "The t-distribution allows for more accurate inference in situations where sample sizes are small or the population standard deviation is unknown. It provides a flexible tool for statistical analysis, particularly when dealing with real-world data that may not conform to strict assumptions of normality or large sample sizes."
   ]
  },
  {
   "cell_type": "markdown",
   "id": "5ed63ee1-cd63-455d-a45d-97a52084b4c7",
   "metadata": {},
   "source": [
    "Q12)"
   ]
  },
  {
   "cell_type": "markdown",
   "id": "e3e054e5-d4c8-43a5-a359-ab4f1ecde3f1",
   "metadata": {},
   "source": [
    "The t-statistic is a statistical measure that is used in hypothesis testing and estimating population parameters when the population standard deviation is unknown and must be estimated from sample data. It compares the difference between a sample statistic and a population parameter under the null hypothesis, taking into account the variability in the data.\n",
    "\n",
    "The formula for the t-statistic depends on the specific scenario and hypothesis being tested. Here are the formulas for two common cases:\n",
    "\n",
    "One-Sample t-Test: In a one-sample t-test, the t-statistic is used to test whether the mean of a single sample differs significantly from a hypothesized population mean.\n",
    "\n",
    "The formula for the one-sample t-statistic is:\n",
    "\n",
    "t = (x̄ - μ) / (s / √n)\n",
    "\n",
    "where:\n",
    "\n",
    "t: the t-statistic x̄: the sample mean μ: the hypothesized population mean under the null hypothesis s: the sample standard deviation n: the sample size Independent Samples t-Test: In an independent samples t-test, the t-statistic is used to compare the means of two independent samples and test whether they differ significantly from each other.\n",
    "\n",
    "The formula for the independent samples t-statistic is:\n",
    "\n",
    "t = (x̄₁ - x̄₂) / √((s₁² / n₁) + (s₂² / n₂))\n",
    "\n",
    "where:\n",
    "\n",
    "t: the t-statistic x̄₁, x̄₂: the means of the two independent samples s₁, s₂: the sample standard deviations of the two independent samples n₁, n₂: the sample sizes of the two independent samples In both cases, the t-statistic measures the difference between the sample statistic (mean) and the population parameter (mean under the null hypothesis) relative to the standard error of the estimate. It quantifies how many standard errors the sample mean is away from the hypothesized population mean, taking into account the variability within the sample.\n",
    "\n",
    "The calculated t-statistic is then compared to critical values from the t-distribution with appropriate degrees of freedom to determine the statistical significance and make conclusions about the hypothesis being test"
   ]
  },
  {
   "cell_type": "markdown",
   "id": "528dc456-0f4e-4d3d-b614-db7861fe648c",
   "metadata": {},
   "source": [
    "Q13)"
   ]
  },
  {
   "cell_type": "markdown",
   "id": "686719d2-4d05-4b2d-8447-001a97703db8",
   "metadata": {},
   "source": [
    "To estimate the population mean revenue with a 95% confidence interval, we can use the sample mean and standard deviation along with the t-distribution. Here's how you can calculate it:\n",
    "\n",
    "Given information:\n",
    "\n",
    "Sample size (n) = 50 Sample mean (x̄) = \n",
    "50 Confidence level = 95% Since the sample size is small (<30), we will use the t-distribution for constructing the confidence interval.\n",
    "\n",
    "The formula to calculate the confidence interval for the population mean is:\n",
    "\n",
    "Confidence Interval = x̄ ± t * (s / √n)\n",
    "\n",
    "where:\n",
    "\n",
    "x̄ is the sample mean t is the critical value from the t-distribution based on the desired confidence level and degrees of freedom s is the sample standard deviation n is the sample size To find the critical value (t), we need to determine the degrees of freedom (df) which is n - 1.\n",
    "\n",
    "Let's calculate the confidence interval:\n",
    "\n",
    "Degrees of freedom (df) = n - 1 = 50 - 1 = 49\n",
    "\n",
    "For a 95% confidence level, we need to find the critical value with a two-tailed test. Checking a t-distribution table or using a statistical software, the critical value for a 95% confidence level with 49 degrees of freedom is approximately 2.009.\n",
    "\n",
    "Plugging the values into the formula:\n",
    "\n",
    "Confidence Interval = 500 ± 2.009 * (50 / √50)\n",
    "\n",
    "Now, we can calculate the confidence interval:\n",
    "\n",
    "Confidence Interval = 500 ± 2.009 * (50 / √50) Confidence Interval = 500 ± 14.21\n",
    "\n",
    "Therefore, the 95% confidence interval for the population mean revenue is approximately 485.79 to 514.21.\n",
    "\n",
    "This means we can be 95% confident that the true average daily revenue for the coffee shop falls within this range based on the given sample."
   ]
  },
  {
   "cell_type": "markdown",
   "id": "e5e8936f-5c5e-419d-affb-f913f784d146",
   "metadata": {},
   "source": [
    "Q14)"
   ]
  },
  {
   "cell_type": "markdown",
   "id": "bf4942a6-74f0-4d9c-994f-dcef0c02ac06",
   "metadata": {},
   "source": [
    "To test the hypothesis that the new drug decreases blood pressure by 10 mmHg, we can perform a one-sample t-test. Here's how you can conduct the hypothesis test with a significance level of 0.05:\n",
    "\n",
    "Given information:\n",
    "\n",
    "Sample size (n) = 100 Sample mean decrease in blood pressure (x̄) = 8 mmHg Sample standard deviation (s) = 3 mmHg Hypothesized mean decrease in blood pressure (μ) = 10 mmHg Significance level (α) = 0.05 We can set up the null and alternative hypotheses as follows:\n",
    "\n",
    "Null Hypothesis (H₀): The new drug does not decrease blood pressure by 10 mmHg. Alternative Hypothesis (H₁): The new drug decreases blood pressure by 10 mmHg.\n",
    "\n",
    "Since we have a sample size of 100 (which is large), we can use the z-test approximation instead of the t-test. However, for educational purposes, we will use the t-test.\n",
    "\n",
    "The formula for the t-statistic is:\n",
    "\n",
    "t = (x̄ - μ) / (s / √n)\n",
    "\n",
    "Plugging in the values:\n",
    "\n",
    "t = (8 - 10) / (3 / √100) t = -2 / (3 / 10) t ≈ -6.67\n",
    "\n",
    "To determine the critical value for the t-distribution, we need to find the degrees of freedom, which is n - 1:\n",
    "\n",
    "Degrees of freedom (df) = n - 1 = 100 - 1 = 99\n",
    "\n",
    "Looking up the critical value from the t-distribution table or using a statistical software at a significance level of 0.05 and 99 degrees of freedom, we find that the critical value is approximately ±1.984.\n",
    "\n",
    "Since the t-statistic (-6.67) falls in the critical region (beyond ±1.984), we reject the null hypothesis.\n",
    "\n",
    "Therefore, based on the sample data, we have sufficient evidence to conclude that the new drug decreases blood pressure by more than 10 mmHg, at a significance level of 0.05."
   ]
  }
 ],
 "metadata": {
  "kernelspec": {
   "display_name": "Python 3 (ipykernel)",
   "language": "python",
   "name": "python3"
  },
  "language_info": {
   "codemirror_mode": {
    "name": "ipython",
    "version": 3
   },
   "file_extension": ".py",
   "mimetype": "text/x-python",
   "name": "python",
   "nbconvert_exporter": "python",
   "pygments_lexer": "ipython3",
   "version": "3.10.8"
  }
 },
 "nbformat": 4,
 "nbformat_minor": 5
}
